{
  "nbformat": 4,
  "nbformat_minor": 0,
  "metadata": {
    "colab": {
      "provenance": [],
      "toc_visible": true,
      "authorship_tag": "ABX9TyNxfT2jrxFebtILxzdtPbLP",
      "include_colab_link": true
    },
    "kernelspec": {
      "name": "python3",
      "display_name": "Python 3"
    },
    "language_info": {
      "name": "python"
    }
  },
  "cells": [
    {
      "cell_type": "markdown",
      "metadata": {
        "id": "view-in-github",
        "colab_type": "text"
      },
      "source": [
        "<a href=\"https://colab.research.google.com/github/ThanuVijay/OOPs/blob/main/OOPs.ipynb\" target=\"_parent\"><img src=\"https://colab.research.google.com/assets/colab-badge.svg\" alt=\"Open In Colab\"/></a>"
      ]
    },
    {
      "cell_type": "markdown",
      "source": [
        "# Single Inheritance"
      ],
      "metadata": {
        "id": "CdeSJfOkNxbb"
      }
    },
    {
      "cell_type": "code",
      "source": [
        "#Parent Class\n",
        "class Animel:\n",
        "  def speaks(self):\n",
        "    print(\"Animel is Speaking\")\n",
        "  def eyes(self):\n",
        "    print(\"Animel is seeing\")\n",
        "\n",
        "#Dog is a child for Animl\n",
        "class Dog(Animel):\n",
        "  def eats(self):\n",
        "    print(\"the dog eats meeet\")\n"
      ],
      "metadata": {
        "id": "mKDVjXYvN08d"
      },
      "execution_count": null,
      "outputs": []
    },
    {
      "cell_type": "code",
      "source": [
        "obj = Dog()"
      ],
      "metadata": {
        "id": "LgdXhJF3OCmK"
      },
      "execution_count": null,
      "outputs": []
    },
    {
      "cell_type": "code",
      "source": [
        "obj.eyes()"
      ],
      "metadata": {
        "colab": {
          "base_uri": "https://localhost:8080/"
        },
        "id": "eTnpTx1tOQZS",
        "outputId": "3245d7da-f15d-47f7-bcc0-671644e0605e"
      },
      "execution_count": null,
      "outputs": [
        {
          "output_type": "stream",
          "name": "stdout",
          "text": [
            "Animel is seeing\n"
          ]
        }
      ]
    },
    {
      "cell_type": "markdown",
      "source": [
        "# Multiple Inheritance"
      ],
      "metadata": {
        "id": "6MU_mbLWRNog"
      }
    },
    {
      "cell_type": "code",
      "source": [
        "class Method1:\n",
        "  def myname(self):\n",
        "    print(\"My name is Sham\")\n",
        "\n",
        "class Method2:\n",
        "  def myage(self):\n",
        "    print(\"my age is 22\")\n",
        "\n",
        "class Method3:\n",
        "  def myfather(self):\n",
        "    print(\"my father name is Ganeshalingam\")\n",
        "\n",
        "class Cv(Method1, Method2, Method3):\n",
        "  def this(self):\n",
        "    print(\"this is my cv\")"
      ],
      "metadata": {
        "id": "JE1q3Id7RR5j"
      },
      "execution_count": null,
      "outputs": []
    },
    {
      "cell_type": "code",
      "source": [
        "obj = Cv()"
      ],
      "metadata": {
        "id": "gUsuq3-MSmoT"
      },
      "execution_count": null,
      "outputs": []
    },
    {
      "cell_type": "code",
      "source": [
        "obj.myname()\n",
        "obj.myage()\n",
        "obj.myfather()"
      ],
      "metadata": {
        "colab": {
          "base_uri": "https://localhost:8080/"
        },
        "id": "sPGN7jSaTPsT",
        "outputId": "bbdb549f-6475-4585-90d5-3146bf7e6425"
      },
      "execution_count": null,
      "outputs": [
        {
          "output_type": "stream",
          "name": "stdout",
          "text": [
            "My name is Sham\n",
            "my age is 22\n",
            "my father name is Ganeshalingam\n"
          ]
        }
      ]
    },
    {
      "cell_type": "markdown",
      "source": [
        "# Multi Level Inheritance"
      ],
      "metadata": {
        "id": "RbO_gUZHUJch"
      }
    },
    {
      "cell_type": "code",
      "source": [
        "#Parent Class\n",
        "class Animel:\n",
        "  def speaks(self):\n",
        "    print(\"Animel is Speaking\")\n",
        "\n",
        "\n",
        "#Dog is a child for Animl\n",
        "class Dog(Animel):\n",
        "  def eats(self):\n",
        "    print(\"the dog eats meeet\")\n",
        "\n",
        "#jimmy is cild for Dog\n",
        "class Jimmy(Dog):\n",
        "  # def eats(self):\n",
        "  #   print(\"the dog eats bus\")\n",
        "  def run(self):\n",
        "    print(\"puppy is ru away\")"
      ],
      "metadata": {
        "id": "PUmiYfoPUNbC"
      },
      "execution_count": null,
      "outputs": []
    },
    {
      "cell_type": "code",
      "source": [
        "obj = Jimmy()"
      ],
      "metadata": {
        "id": "TBPQhM6eUoWa"
      },
      "execution_count": null,
      "outputs": []
    },
    {
      "cell_type": "code",
      "source": [
        "obj.eats()\n",
        "obj.run()\n",
        "obj.speaks()"
      ],
      "metadata": {
        "colab": {
          "base_uri": "https://localhost:8080/"
        },
        "id": "VTXRPPNAUtWK",
        "outputId": "5aedef63-2552-460c-be57-39c296b5358e"
      },
      "execution_count": null,
      "outputs": [
        {
          "output_type": "stream",
          "name": "stdout",
          "text": [
            "the dog eats meeet\n",
            "puppy is ru away\n",
            "Animel is Speaking\n"
          ]
        }
      ]
    }
  ]
}